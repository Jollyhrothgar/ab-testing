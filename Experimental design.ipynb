{
 "cells": [
  {
   "cell_type": "markdown",
   "metadata": {},
   "source": [
    "## Targetting an experiment"
   ]
  },
  {
   "cell_type": "code",
   "execution_count": 18,
   "metadata": {},
   "outputs": [],
   "source": [
    "import numpy as np\n",
    "from collections import Counter"
   ]
  },
  {
   "cell_type": "code",
   "execution_count": 24,
   "metadata": {},
   "outputs": [],
   "source": [
    "new_zealand = {'Ncont': 6021, 'Xcont': 302, 'Nexp': 5979, 'Xexp': 374}\n",
    "other = {'Ncont': 50000, 'Xcont': 2500, 'Nexp': 50000, 'Xexp': 2500}\n",
    "\n",
    "global_ = dict(Counter(new_zealand) + Counter(other))"
   ]
  },
  {
   "cell_type": "code",
   "execution_count": 15,
   "metadata": {},
   "outputs": [],
   "source": [
    "def p(cont_or_exp, data):\n",
    "    return data['X{}'.format(cont_or_exp)] / data['N{}'.format(cont_or_exp)]\n",
    "\n",
    "def p_pool(data):\n",
    "    return (data['Xcont'] + data['Xexp']) / (data['Ncont'] + data['Nexp'])\n",
    "\n",
    "def se_pool(data):\n",
    "    return np.sqrt(p_pool(data) * (1-p_pool(data)) * ((1 / data['Ncont']) + (1 / data['Nexp'])))"
   ]
  },
  {
   "cell_type": "code",
   "execution_count": 37,
   "metadata": {},
   "outputs": [
    {
     "name": "stdout",
     "output_type": "stream",
     "text": [
      "The pooled global p is 0.05067857142857143\n"
     ]
    }
   ],
   "source": [
    "print('The pooled global p is {}'.format(p_pool(global_)))"
   ]
  },
  {
   "cell_type": "code",
   "execution_count": 38,
   "metadata": {},
   "outputs": [
    {
     "name": "stdout",
     "output_type": "stream",
     "text": [
      "The pooled global SE is 0.0013108102809227253\n"
     ]
    }
   ],
   "source": [
    "print('The pooled global SE is {}'.format(se_pool(global_)))"
   ]
  },
  {
   "cell_type": "code",
   "execution_count": 39,
   "metadata": {
    "scrolled": true
   },
   "outputs": [
    {
     "name": "stdout",
     "output_type": "stream",
     "text": [
      "The estimated difference globally is 0.0013237234004343165\n"
     ]
    }
   ],
   "source": [
    "print('The estimated difference globally is {}'.format(p('exp', global_) - p('cont', global_)))"
   ]
  },
  {
   "cell_type": "code",
   "execution_count": 40,
   "metadata": {
    "scrolled": true
   },
   "outputs": [
    {
     "name": "stdout",
     "output_type": "stream",
     "text": [
      "The margin of error is 0.0025691881506085417\n"
     ]
    }
   ],
   "source": [
    "print('The margin of error is {}'.format(1.96 * se_pool(global_)))"
   ]
  },
  {
   "cell_type": "markdown",
   "metadata": {},
   "source": [
    "Since the margin of error is wider than the difference, the confidence interval will include 0, which means that the observed difference is not significant"
   ]
  },
  {
   "cell_type": "code",
   "execution_count": 44,
   "metadata": {},
   "outputs": [
    {
     "name": "stdout",
     "output_type": "stream",
     "text": [
      "The pooled new zealand p is 0.05633333333333333\n",
      "The pooled global SE is 0.00420953442023799\n",
      "The estimated difference globally is 0.012394485165776618\n",
      "The margin of error is 0.00825068746366646\n"
     ]
    }
   ],
   "source": [
    "print('The pooled new zealand p is {}'.format(p_pool(new_zealand)))\n",
    "print('The pooled global SE is {}'.format(se_pool(new_zealand)))\n",
    "print('The estimated difference globally is {}'.format(p('exp', new_zealand) - p('cont', new_zealand)))\n",
    "print('The margin of error is {}'.format(1.96 * se_pool(new_zealand)))"
   ]
  },
  {
   "cell_type": "markdown",
   "metadata": {},
   "source": [
    "There is a statistically signficant effect by the experiment in New Zealand, but not in non-New Zealand countries."
   ]
  },
  {
   "cell_type": "code",
   "execution_count": null,
   "metadata": {},
   "outputs": [],
   "source": []
  }
 ],
 "metadata": {
  "kernelspec": {
   "display_name": "Python 3",
   "language": "python",
   "name": "python3"
  },
  "language_info": {
   "codemirror_mode": {
    "name": "ipython",
    "version": 3
   },
   "file_extension": ".py",
   "mimetype": "text/x-python",
   "name": "python",
   "nbconvert_exporter": "python",
   "pygments_lexer": "ipython3",
   "version": "3.5.4"
  }
 },
 "nbformat": 4,
 "nbformat_minor": 2
}
