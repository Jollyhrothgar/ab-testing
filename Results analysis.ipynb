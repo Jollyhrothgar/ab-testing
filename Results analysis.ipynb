{
 "cells": [
  {
   "cell_type": "code",
   "execution_count": 1,
   "metadata": {},
   "outputs": [],
   "source": [
    "import numpy as np"
   ]
  },
  {
   "cell_type": "code",
   "execution_count": 11,
   "metadata": {},
   "outputs": [],
   "source": [
    "Xs_cont = [196, 200, 200, 216, 212, 185, 225, 187, 205, 211, 192, 196, 223, 192]\n",
    "Ns_cont = [2029, 1991, 1951, 1985, 1973, 2021, 2041, 1980, 1951, 1988, 1977, 2019, 2035, 2007]\n",
    "Xs_exp = [179, 208, 205, 175, 191, 291, 278, 216, 225, 207, 205, 200, 297, 299]\n",
    "Ns_exp = [1971, 2009, 2049, 2015, 2027, 1979, 1959, 2020, 2049, 2012, 2023, 1981, 1965, 1993]\n",
    "\n",
    "sum_Xs_cont = np.sum(Xs_cont)\n",
    "sum_Ns_cont = np.sum(Ns_cont)\n",
    "sum_Xs_exp = np.sum(Xs_exp)\n",
    "sum_Ns_exp = np.sum(Ns_exp)\n",
    "\n",
    "rs_cont = np.array(Xs_cont) / np.array(Ns_cont)\n",
    "rs_exp = np.array(Xs_exp) / np.array(Ns_exp)\n",
    "\n",
    "total_rs_cont = sum_Xs_cont / sum_Ns_cont\n",
    "total_rs_exp = sum_Xs_exp / sum_Ns_exp"
   ]
  },
  {
   "cell_type": "code",
   "execution_count": 27,
   "metadata": {},
   "outputs": [
    {
     "data": {
      "text/plain": [
       "0.002619982707795742"
      ]
     },
     "execution_count": 27,
     "metadata": {},
     "output_type": "execute_result"
    }
   ],
   "source": [
    "empirical_SE = 0.0062\n",
    "empirical_pageviews_N = 5000\n",
    "\n",
    "estimated_SE = np.sqrt(\n",
    "    (1 / sum(Ns_cont)) + (1 / sum(Ns_exp))\n",
    ") * empirical_SE / np.sqrt(\n",
    "    (1 / empirical_pageviews_N) + (1 / empirical_pageviews_N)\n",
    ") \n",
    "\n",
    "estimated_SE"
   ]
  },
  {
   "cell_type": "code",
   "execution_count": 26,
   "metadata": {},
   "outputs": [
    {
     "data": {
      "text/plain": [
       "0.10161728925146701"
      ]
     },
     "execution_count": 26,
     "metadata": {},
     "output_type": "execute_result"
    }
   ],
   "source": [
    "total_rs_cont"
   ]
  },
  {
   "cell_type": "code",
   "execution_count": 23,
   "metadata": {},
   "outputs": [
    {
     "data": {
      "text/plain": [
       "0.011601019603516588"
      ]
     },
     "execution_count": 23,
     "metadata": {},
     "output_type": "execute_result"
    }
   ],
   "source": [
    "total_rs_exp - total_rs_cont"
   ]
  },
  {
   "cell_type": "code",
   "execution_count": 28,
   "metadata": {},
   "outputs": [
    {
     "name": "stdout",
     "output_type": "stream",
     "text": [
      "effect size lower bound  0.006465853496236934\n",
      "effect size lower bound  0.016736185710796242\n"
     ]
    }
   ],
   "source": [
    "print('effect size lower bound ', (total_rs_exp - total_rs_cont) - (1.96 * estimated_SE))\n",
    "print('effect size lower bound ', (total_rs_exp - total_rs_cont) + (1.96 * estimated_SE))"
   ]
  },
  {
   "cell_type": "code",
   "execution_count": 20,
   "metadata": {},
   "outputs": [
    {
     "data": {
      "text/plain": [
       "9"
      ]
     },
     "execution_count": 20,
     "metadata": {},
     "output_type": "execute_result"
    }
   ],
   "source": [
    "sum([1 if d > 0 else 0 for d in (rs_exp - rs_cont)])"
   ]
  },
  {
   "cell_type": "code",
   "execution_count": 22,
   "metadata": {},
   "outputs": [
    {
     "data": {
      "text/plain": [
       "14"
      ]
     },
     "execution_count": 22,
     "metadata": {},
     "output_type": "execute_result"
    }
   ],
   "source": [
    "len(rs_exp)"
   ]
  },
  {
   "cell_type": "code",
   "execution_count": 39,
   "metadata": {},
   "outputs": [
    {
     "name": "stdout",
     "output_type": "stream",
     "text": [
      "-3.4259999999999984 23.426\n",
      "5.71875 14.28125\n"
     ]
    }
   ],
   "source": [
    "d = 10\n",
    "se = 6.85\n",
    "b_se = se / 4\n",
    "print(d - (1.96 * se), d + (1.96 * se))\n",
    "print(d - (2.5 * b_se), d + (2.5 * b_se))"
   ]
  },
  {
   "cell_type": "code",
   "execution_count": null,
   "metadata": {},
   "outputs": [],
   "source": []
  }
 ],
 "metadata": {
  "kernelspec": {
   "display_name": "Python 3",
   "language": "python",
   "name": "python3"
  },
  "language_info": {
   "codemirror_mode": {
    "name": "ipython",
    "version": 3
   },
   "file_extension": ".py",
   "mimetype": "text/x-python",
   "name": "python",
   "nbconvert_exporter": "python",
   "pygments_lexer": "ipython3",
   "version": "3.5.4"
  }
 },
 "nbformat": 4,
 "nbformat_minor": 2
}
