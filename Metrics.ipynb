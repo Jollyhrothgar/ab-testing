{
 "cells": [
  {
   "cell_type": "markdown",
   "metadata": {},
   "source": [
    "# Choosing and characterizing metrics for experiments\n",
    "- Defining a metric\n",
    "  - Brainstorming and establishing a suite of metrics\n",
    "  - Going from high level concept of a metric to a practical definition that works given a means of data capture\n",
    "- Build intuition about metric\n",
    "  - Understanding sensitivity and robustness\n",
    "- Characterize variability of the metric"
   ]
  },
  {
   "cell_type": "markdown",
   "metadata": {},
   "source": [
    "# Defining a metric\n",
    "\n",
    "In other words, how do we measure whether the experiment group is better than control group or not? But first, you need to know what you're going to use the metrics for before you decide on how to define them.\n",
    "\n",
    "### Two main use cases\n",
    "- Invariant checking\n",
    "  - Metrics that shouldn't change across your experiment and control. Sanity check that the experiment is run properly.\n",
    "  - E.g. are the populations the same between the experiment and control groups?\n",
    "    - Same number across the two?\n",
    "    - Same distribution? Comparable numbers of users across countries? Comparable numbers of users across languages?\n",
    "- Evaluation\n",
    "  - __High-level business metrics__ (how much revenue you make, what your market share is, how many users you have).\n",
    "  - Then __more detailed metrics__ that focus on the user experience with the product (e.g. how long users stay on the page)\n",
    "  - E.g. Evaluation of why users aren't finishing a video series for a class\n",
    "    - To understand why, we need to dig into the user experience, e.g. the videos could be taking too long to load and we should look at latency\n",
    "  - It's also possible that the business metrics may not work out in the context of an experiment. You may not have the information you need or the time that you're running the experiment may be too short to measure the effect.\n"
   ]
  },
  {
   "cell_type": "markdown",
   "metadata": {},
   "source": [
    "# How to go about making a definition"
   ]
  }
 ],
 "metadata": {
  "kernelspec": {
   "display_name": "Python 3",
   "language": "python",
   "name": "python3"
  },
  "language_info": {
   "codemirror_mode": {
    "name": "ipython",
    "version": 3
   },
   "file_extension": ".py",
   "mimetype": "text/x-python",
   "name": "python",
   "nbconvert_exporter": "python",
   "pygments_lexer": "ipython3",
   "version": "3.5.4"
  }
 },
 "nbformat": 4,
 "nbformat_minor": 2
}
