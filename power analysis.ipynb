{
 "cells": [
  {
   "cell_type": "markdown",
   "metadata": {},
   "source": [
    "## What is A/B Testing?\n",
    "\n",
    "A/B testing is a methodology for testing the efficacy of a new product or feature on the internet. To run the experiment, you need 2 sets of users --\n",
    "\n",
    "1. a \"control\" set that uses the pre-existing product or feature\n",
    "2. an \"experiment\" set that uses the new version\n",
    "\n",
    "Then you quantify how users respond differently between the two sets to determine if the feature is \"better.\"\n",
    "\n",
    "Some examples --\n",
    "\n",
    "* \"Our experiments demonstrate that slowing down the search results page by 100 to 400 milliseconds has a measurable impact on the number of searches per user of -0.2% to -0.6%\" ([Google Research Blog](https://research.googleblog.com/2009/06/speed-matters.html))\n",
    "* \"'Add more color to your professional identity by showing what you care about' [...] The A/B test showed a 14% increase in edits of volunteer experience in member profiles!\" ([LinkedIn Engineering Blog](https://engineering.linkedin.com/ab-testing/xlnt-platform-driving-ab-testing-linkedin))\n",
    "* \"Identify artwork that enabled members to find a story they wanted to watch faster.\" ([Netflix Tech Blog](https://medium.com/netflix-techblog/selecting-the-best-artwork-for-videos-through-a-b-testing-f6155c4595f6))"
   ]
  },
  {
   "cell_type": "code",
   "execution_count": null,
   "metadata": {},
   "outputs": [],
   "source": []
  }
 ],
 "metadata": {
  "kernelspec": {
   "display_name": "Python 3",
   "language": "python",
   "name": "python3"
  },
  "language_info": {
   "codemirror_mode": {
    "name": "ipython",
    "version": 3
   },
   "file_extension": ".py",
   "mimetype": "text/x-python",
   "name": "python",
   "nbconvert_exporter": "python",
   "pygments_lexer": "ipython3",
   "version": "3.5.4"
  }
 },
 "nbformat": 4,
 "nbformat_minor": 2
}
