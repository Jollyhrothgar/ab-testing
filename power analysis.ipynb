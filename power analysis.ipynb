{
 "cells": [
  {
   "cell_type": "markdown",
   "metadata": {},
   "source": [
    "# A/B testing and power analysis"
   ]
  },
  {
   "cell_type": "markdown",
   "metadata": {},
   "source": [
    "## What is A/B Testing?\n",
    "\n",
    "A/B testing is a methodology for testing the efficacy of a new product or feature on the internet. To run the experiment, you need 2 sets of users --\n",
    "\n",
    "1. a \"control\" set that uses the pre-existing product or feature\n",
    "2. an \"experiment\" set that uses a new, experimental version\n",
    "\n",
    "Then you measure how users respond differently between the two sets to determine if the feature is \"better.\"\n",
    "\n",
    "Some examples --\n",
    "\n",
    "* \"Our experiments demonstrate that slowing down the search results page by 100 to 400 milliseconds has a measurable impact on the number of searches per user of -0.2% to -0.6%\" ([Google Research Blog](https://research.googleblog.com/2009/06/speed-matters.html))\n",
    "* \"'Add more color to your professional identity by showing what you care about' [...] The A/B test showed a 14% increase in edits of volunteer experience in member profiles!\" ([LinkedIn Engineering Blog](https://engineering.linkedin.com/ab-testing/xlnt-platform-driving-ab-testing-linkedin))\n",
    "* \"Identify artwork that enabled members to find a story they wanted to watch faster.\" ([Netflix Tech Blog](https://medium.com/netflix-techblog/selecting-the-best-artwork-for-videos-through-a-b-testing-f6155c4595f6))"
   ]
  },
  {
   "cell_type": "markdown",
   "metadata": {},
   "source": [
    "## An example business case: funnel analysis\n",
    "\n",
    "Imagine that you're a data scientist working at a startup that sells fidget spinners. Despite the highly game-changing nature of the company's product, sales are not too impressive. You wonder if the company's online store experience can be modified somehow to augment sales. Fortunately, your web developer coworker already equiped the website with tools to track traffic! You add up the visits to each page of the site over the past month, and you observe the following funnel in the user flow --\n",
    "\n",
    "1. Visit the front page (**60,000** visits)\n",
    "2. Visit the catalog page (**5,000** visits)\n",
    "3. Visit a product spinner details page (**4,900** visits)\n",
    "4. Visit cart page (**4,700** visits)\n",
    "5. Checkout and payment page (**4,600** visits)\n",
    "6. Payment confirmation page (**4,600** visits)\n",
    "\n",
    "A major bottle neck in the visitor-to-sale conversion rate seems to be happening between steps 1 and 2. Once users get to the catalog page and see the fidget spinners, the product pretty much sells itself. Many serious meetings take place after you share this funnel analysis with your company, and a new design is proposed for the button on the front page linking to the catalog page (a very slick, animated button that looks and spins exactly like a real fidget spinner).\n",
    "\n",
    "You've been assigned the task of designing and running an experiment to determine if the proposed animated button is a good idea."
   ]
  },
  {
   "cell_type": "markdown",
   "metadata": {},
   "source": [
    "## Refining the problem\n",
    "### Initial hypothesis\n",
    "Changing the catalog button to a spinning fidget button will increase the number of users who visit the catalog page.\n",
    "\n",
    "### Possible metrics\n",
    "1. Click-through rate (CTR)\n",
    "$$\\text{CTR} = \\frac{\\text{# of clicks}}{\\text{# of page views}}$$\n",
    "  - Good for measuring __usability__ of the site (includes double-clicks or going back and re-clicking)\n",
    "2. Click-through probability (CTP)\n",
    "$$\\text{CTP} = \\frac{\\text{# of unique visitors who click at least once}}{\\text{# of unique visitors to the page}}$$\n",
    "  - Good for measuring __impact__ (e.g. are users progressing to the next level of the funnel?)\n",
    "  - Some ways to measure: $$\\frac{\\text{# of cookies that click}}{\\text{# of cookies}}\\text{ or }\\frac{\\text{# of page views w/ click}}{\\text{# of page views}}$$\n",
    "\n",
    "The chosen metric matters, e.g. if $\\text{user}_{1}$ clicks 0 times and $\\text{user}_{2}$ clicks 5 times, then $\\text{CTR} = 2.5$ and $\\text{CTP} = 0.5$\n",
    "\n",
    "### Reframe hypothesis in terms of a chosen metric\n",
    "Changing the catalog button to a spinning fidget button will increase the __click-through-probability__ of the button."
   ]
  },
  {
   "cell_type": "code",
   "execution_count": null,
   "metadata": {},
   "outputs": [],
   "source": []
  }
 ],
 "metadata": {
  "kernelspec": {
   "display_name": "Python 3",
   "language": "python",
   "name": "python3"
  },
  "language_info": {
   "codemirror_mode": {
    "name": "ipython",
    "version": 3
   },
   "file_extension": ".py",
   "mimetype": "text/x-python",
   "name": "python",
   "nbconvert_exporter": "python",
   "pygments_lexer": "ipython3",
   "version": "3.5.4"
  }
 },
 "nbformat": 4,
 "nbformat_minor": 2
}
